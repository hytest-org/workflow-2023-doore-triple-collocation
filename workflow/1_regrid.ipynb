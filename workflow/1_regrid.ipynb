{
 "cells": [
  {
   "cell_type": "markdown",
   "id": "659088c7-b079-4ef6-a574-a7132186d997",
   "metadata": {},
   "source": [
    "# Regrid Datasets\n",
    "\n",
    "Now that we have downloaded our data sets in the [data compilation notebook](0_compile_datasets.ipynb), we will regrid the ET datasets using the conservative method within [`xarray-regrid`](https://github.com/xarray-contrib/xarray-regrid). (See this [notebook](https://github.com/xarray-contrib/xarray-regrid/blob/main/docs/notebooks/benchmarks/benchmarking_conservative.ipynb) for an example.) The `conservative` method is chosen as it is an area weighted average, which is optimal for decreasing resolution."
   ]
  },
  {
   "cell_type": "code",
   "execution_count": null,
   "id": "30f52fc4-c384-40b9-8a84-6d279a511742",
   "metadata": {},
   "outputs": [],
   "source": [
    "import hvplot.xarray\n",
    "import xarray as xr\n",
    "import xarray_regrid\n",
    "import panel as pn"
   ]
  },
  {
   "cell_type": "markdown",
   "id": "54c45792-467e-4d04-8dd4-750fedb0bfc5",
   "metadata": {},
   "source": [
    "Let's read in our data sets that we compiled in the [data compilation notebook](0_compile_datasets.ipynb)."
   ]
  },
  {
   "cell_type": "code",
   "execution_count": null,
   "id": "8a3fbae4-b4ba-43e8-926e-c29f054b30a8",
   "metadata": {},
   "outputs": [],
   "source": [
    "ssebop = xr.open_dataset(\n",
    "    \"../Data/ssebop/ssebop_aet.nc\",\n",
    "    engine=\"netcdf4\",\n",
    "    chunks={},\n",
    ")\n",
    "gleam = xr.open_dataset(\n",
    "    \"../Data/gleam/gleam_aet.nc\",\n",
    "    engine=\"netcdf4\",\n",
    "    chunks={},\n",
    ")\n",
    "era5 = xr.open_dataset(\n",
    "    \"../Data/era5/era5_aet.nc\",\n",
    "    engine=\"netcdf4\",\n",
    "    chunks={},\n",
    ")\n",
    "nldas = xr.open_dataset(\n",
    "    \"../Data/nldas/nldas_aet.nc\",\n",
    "    engine=\"netcdf4\",\n",
    "    chunks={},\n",
    ")\n",
    "terra = xr.open_dataset(\n",
    "    \"../Data/terraclimate/terraclimate_aet.nc\",\n",
    "    chunks={\"lat\": -1, \"lon\": -1, \"time\": 30},\n",
    ")\n",
    "wbet = xr.open_dataset(\n",
    "    \"../Data/wbet/wbet_aet.nc\",\n",
    "    engine=\"netcdf4\",\n",
    "    chunks={},\n",
    ")"
   ]
  },
  {
   "cell_type": "markdown",
   "id": "4ee97622-dafd-42d7-9197-517bb3d02450",
   "metadata": {},
   "source": [
    "Either by looking at the data sets or from general knowledge of the data, GLEAM has the lowest resolution of the six data sets. So, we will decrease the resolution of the other datasets to match its resolution. To do this, we just need to extract the lat/long grid from the GLEAM data set to use as our target grid. We then regrid."
   ]
  },
  {
   "cell_type": "code",
   "execution_count": null,
   "id": "e7dc8520-812b-404d-8331-8e579f2b16d8",
   "metadata": {},
   "outputs": [],
   "source": [
    "ds_to_regrid = [ssebop, era5, nldas, terra, wbet]\n",
    "ds_names = [\"ssebop\", \"era5\", \"nldas\", \"terraclimate\", \"wbet\"]\n",
    "\n",
    "target_grid = gleam[[\"lat\", \"lon\"]]\n",
    "\n",
    "for ds, name in zip(ds_to_regrid, ds_names):\n",
    "    ds_regridded = ds.regrid.conservative(\n",
    "        target_grid, latitude_coord=\"lat\", skipna=True,\n",
    "        nan_threshold=0, output_chunks={\"lat\": -1, \"lon\": -1, \"time\": -1}\n",
    "    )\n",
    "    ds_regridded.to_netcdf(\n",
    "        path=\"../Data/\" + name + \"/\" + name + \"_aet_regridded.nc\",\n",
    "        format=\"NETCDF4\",\n",
    "        engine=\"netcdf4\",\n",
    "    )"
   ]
  },
  {
   "cell_type": "markdown",
   "id": "8abc0dbc-926b-45d8-a147-2793f887b5d6",
   "metadata": {},
   "source": [
    "Now that we have regridded, let's see how the regridded data sets compare with the GLEAM data set. We will read in the regridded data and plot the maps."
   ]
  },
  {
   "cell_type": "code",
   "execution_count": null,
   "id": "2a02bc12-94ac-49f9-86a5-3a885d2550ca",
   "metadata": {},
   "outputs": [],
   "source": [
    "ssebop_regrid = xr.open_dataset(\n",
    "    \"../Data/ssebop/ssebop_aet_regridded.nc\", engine=\"netcdf4\"\n",
    ")\n",
    "era5_regrid = xr.open_dataset(\"../Data/era5/era5_aet_regridded.nc\", engine=\"netcdf4\")\n",
    "nldas_regrid = xr.open_dataset(\"../Data/nldas/nldas_aet_regridded.nc\", engine=\"netcdf4\")\n",
    "terra_regrid = xr.open_dataset(\n",
    "    \"../Data/terraclimate/terraclimate_aet_regridded.nc\", engine=\"netcdf4\"\n",
    ")\n",
    "wbet_regrid = xr.open_dataset(\"../Data/wbet/wbet_aet_regridded.nc\", engine=\"netcdf4\")"
   ]
  },
  {
   "cell_type": "code",
   "execution_count": null,
   "id": "589d7959-bbdf-43ad-a482-9dad25ec3ca4",
   "metadata": {},
   "outputs": [],
   "source": [
    "plt = (\n",
    "    ssebop_regrid.hvplot(\n",
    "        groupby=\"time\", geo=True, coastline=True, title=\"SSEBop Regridded\"\n",
    "    ).opts(frame_width=400)\n",
    "    + gleam.hvplot(\n",
    "        groupby=\"time\", geo=True, coastline=True, title=\"GLEAM Original\"\n",
    "    ).opts(frame_width=400)\n",
    "    + era5_regrid.hvplot(\n",
    "        groupby=\"time\", geo=True, coastline=True, title=\"ERA5 Regridded\"\n",
    "    ).opts(frame_width=400)\n",
    "    + nldas_regrid.hvplot(\n",
    "        groupby=\"time\", geo=True, coastline=True, title=\"NLDAS Regridded\"\n",
    "    ).opts(frame_width=400)\n",
    "    + terra_regrid.hvplot(\n",
    "        groupby=\"time\", geo=True, coastline=True, title=\"TerraClimate Regridded\"\n",
    "    ).opts(frame_width=400)\n",
    "    + wbet_regrid.hvplot(\n",
    "        groupby=\"time\", geo=True, coastline=True, title=\"WBET Regridded\"\n",
    "    ).opts(frame_width=400)\n",
    ")\n",
    "\n",
    "pn.panel(plt.cols(2), widget_location=\"top\")"
   ]
  }
 ],
 "metadata": {
  "kernelspec": {
   "display_name": "Python 3 (ipykernel)",
   "language": "python",
   "name": "python3"
  },
  "language_info": {
   "codemirror_mode": {
    "name": "ipython",
    "version": 3
   },
   "file_extension": ".py",
   "mimetype": "text/x-python",
   "name": "python",
   "nbconvert_exporter": "python",
   "pygments_lexer": "ipython3",
   "version": "3.11.4"
  }
 },
 "nbformat": 4,
 "nbformat_minor": 5
}
